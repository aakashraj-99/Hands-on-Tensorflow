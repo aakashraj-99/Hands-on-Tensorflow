{
  "nbformat": 4,
  "nbformat_minor": 0,
  "metadata": {
    "colab": {
      "name": "Fashion_mnist.ipynb",
      "provenance": [],
      "authorship_tag": "ABX9TyP9q9vdM0i7N6BEpwaJ6BVq",
      "include_colab_link": true
    },
    "kernelspec": {
      "name": "python3",
      "display_name": "Python 3"
    },
    "language_info": {
      "name": "python"
    }
  },
  "cells": [
    {
      "cell_type": "markdown",
      "metadata": {
        "id": "view-in-github",
        "colab_type": "text"
      },
      "source": [
        "<a href=\"https://colab.research.google.com/github/aakashraj-99/Hands-on-Tensorflow/blob/master/Fashion_mnist.ipynb\" target=\"_parent\"><img src=\"https://colab.research.google.com/assets/colab-badge.svg\" alt=\"Open In Colab\"/></a>"
      ]
    },
    {
      "cell_type": "markdown",
      "metadata": {
        "id": "DQaIqQb7LeSA"
      },
      "source": [
        "**Importing**"
      ]
    },
    {
      "cell_type": "code",
      "metadata": {
        "id": "Mz_IUUm8LSes"
      },
      "source": [
        "import tensorflow as tf\n",
        "from tensorflow import keras"
      ],
      "execution_count": 1,
      "outputs": []
    },
    {
      "cell_type": "markdown",
      "metadata": {
        "id": "xT453JBvLk7S"
      },
      "source": [
        "**Getting the Dataset**"
      ]
    },
    {
      "cell_type": "code",
      "metadata": {
        "id": "DdBkIsvgLc2I"
      },
      "source": [
        "mnist = tf.keras.datasets.fashion_mnist"
      ],
      "execution_count": 23,
      "outputs": []
    },
    {
      "cell_type": "markdown",
      "metadata": {
        "id": "4i4BTN9CMFYY"
      },
      "source": [
        "**Loading Data as train and test**"
      ]
    },
    {
      "cell_type": "code",
      "metadata": {
        "id": "TepJ8MxqMJN7"
      },
      "source": [
        "(training_images, training_labels), (test_images, test_labels) = mnist.load_data()"
      ],
      "execution_count": 24,
      "outputs": []
    },
    {
      "cell_type": "markdown",
      "metadata": {
        "id": "9cwGxADSMdOC"
      },
      "source": [
        "**Lets take a look on these train and test data**"
      ]
    },
    {
      "cell_type": "code",
      "metadata": {
        "colab": {
          "base_uri": "https://localhost:8080/",
          "height": 1000
        },
        "id": "KwdP725VMoeK",
        "outputId": "e9d04537-7a02-4bad-b1fd-cc780ac5b89f"
      },
      "source": [
        "import numpy as np\n",
        "np.set_printoptions(linewidth=200)\n",
        "\n",
        "import matplotlib.pyplot as plt\n",
        "plt.imshow(training_images[32])\n",
        "print(training_labels[32])\n",
        "print(training_images[32])"
      ],
      "execution_count": 30,
      "outputs": [
        {
          "output_type": "stream",
          "name": "stdout",
          "text": [
            "6\n",
            "[[0.         0.         0.         0.         0.         0.00392157 0.00784314 0.         0.         0.         0.         0.22745098 0.34509804 0.4        0.30588235 0.39215686 0.50196078\n",
            "  0.36862745 0.         0.         0.         0.         0.         0.00784314 0.         0.         0.         0.        ]\n",
            " [0.         0.         0.         0.         0.00392157 0.00392157 0.00392157 0.00784314 0.         0.         0.03529412 0.83137255 0.67058824 0.76470588 0.69019608 0.87058824 0.7372549\n",
            "  0.72941176 0.23137255 0.         0.00392157 0.00392157 0.01176471 0.00392157 0.         0.         0.         0.        ]\n",
            " [0.         0.         0.         0.         0.         0.         0.         0.         0.         0.         0.72156863 0.68235294 0.73333333 0.64705882 0.71372549 0.54509804 0.5372549\n",
            "  0.81568627 0.63137255 0.12156863 0.         0.         0.         0.00392157 0.         0.         0.         0.        ]\n",
            " [0.         0.         0.         0.         0.         0.         0.         0.30196078 0.5254902  0.70980392 0.77647059 0.71372549 0.89411765 0.71764706 0.63137255 0.5254902  0.8627451\n",
            "  0.72156863 0.82352941 0.7372549  0.65882353 0.36078431 0.         0.         0.         0.         0.         0.        ]\n",
            " [0.         0.         0.         0.         0.         0.         0.40784314 0.78039216 0.75686275 0.65882353 0.56078431 0.50588235 0.75686275 0.56078431 0.74509804 0.64313725 0.59215686\n",
            "  0.47058824 0.47058824 0.54901961 0.75294118 0.73333333 0.56078431 0.         0.         0.         0.         0.        ]\n",
            " [0.         0.         0.         0.         0.         0.00392157 0.64313725 0.68235294 0.52941176 0.41960784 0.49411765 0.45098039 0.6627451  0.54509804 0.4        0.84705882 0.56078431\n",
            "  0.43137255 0.46666667 0.48627451 0.65098039 0.44705882 0.59215686 0.27058824 0.         0.         0.         0.        ]\n",
            " [0.         0.         0.         0.         0.         0.22745098 0.87843137 0.76470588 0.54509804 0.52156863 0.48235294 0.45882353 0.73333333 0.62745098 0.50980392 0.49019608 0.61176471\n",
            "  0.44705882 0.59215686 0.40784314 0.83137255 0.5254902  0.81960784 0.48627451 0.         0.         0.         0.        ]\n",
            " [0.         0.         0.         0.         0.         0.45490196 0.76862745 0.70588235 0.71764706 0.58039216 0.47843137 0.43137255 0.35686275 0.89019608 0.31764706 0.7254902  0.93333333\n",
            "  0.66666667 0.61176471 0.31764706 0.56862745 0.23529412 0.69019608 0.63529412 0.         0.         0.         0.        ]\n",
            " [0.         0.         0.         0.         0.         0.6        0.58431373 0.74509804 0.81568627 0.78039216 0.55686275 0.37647059 0.7372549  0.74901961 0.71764706 0.68627451 0.7254902\n",
            "  0.87058824 0.43529412 0.60784314 0.25098039 0.72941176 0.54509804 0.59215686 0.         0.         0.         0.        ]\n",
            " [0.         0.         0.         0.         0.         0.70980392 0.55686275 0.74509804 0.61568627 0.60392157 0.64313725 0.8        0.7254902  0.61176471 0.61176471 0.44313725 0.48235294\n",
            "  0.37254902 0.64705882 0.5372549  0.69019608 0.5372549  0.57647059 0.6        0.         0.         0.         0.        ]\n",
            " [0.         0.         0.         0.         0.         0.71764706 0.57647059 0.72941176 0.23529412 0.55294118 0.46666667 0.94117647 0.7254902  0.55294118 0.64705882 0.7372549  0.64705882\n",
            "  0.35686275 0.41176471 0.78431373 0.92156863 0.53333333 0.59215686 0.87058824 0.         0.         0.         0.        ]\n",
            " [0.         0.         0.         0.         0.01960784 0.74901961 0.7372549  0.88627451 0.49019608 0.42745098 0.87058824 0.32941176 0.6745098  0.66666667 0.53333333 0.52941176 0.69411765\n",
            "  0.43137255 0.64313725 0.61568627 0.56470588 0.54509804 0.74901961 0.7372549  0.02352941 0.         0.         0.        ]\n",
            " [0.         0.         0.         0.         0.         0.7372549  0.61176471 0.71764706 0.60392157 0.82745098 0.35294118 0.68235294 0.88627451 0.91372549 0.43921569 0.74509804 0.8745098\n",
            "  0.74901961 0.63137255 0.48235294 0.69411765 0.52941176 0.56078431 0.78823529 0.05098039 0.         0.         0.        ]\n",
            " [0.         0.         0.         0.         0.         0.73333333 0.47058824 0.76078431 0.91372549 0.7372549  0.67058824 0.63529412 0.68627451 0.8        0.4627451  0.52941176 0.63529412\n",
            "  0.45490196 0.61960784 0.77647059 0.85098039 0.71764706 0.43921569 0.74117647 0.07058824 0.         0.         0.        ]\n",
            " [0.         0.         0.         0.         0.03529412 0.78823529 0.47843137 0.7372549  0.66666667 0.54901961 0.54901961 0.45882353 0.64705882 0.72156863 0.44705882 0.60784314 0.55294118\n",
            "  0.55686275 0.42745098 0.6        0.62352941 0.5372549  0.47843137 0.8        0.15686275 0.         0.         0.        ]\n",
            " [0.         0.         0.         0.         0.15686275 0.8        0.49411765 0.72941176 0.61960784 0.50196078 0.49411765 0.38039216 0.57647059 0.62352941 0.57254902 0.8        0.53333333\n",
            "  0.4627451  0.30980392 0.64313725 0.52941176 0.5254902  0.5254902  0.81176471 0.24313725 0.         0.         0.        ]\n",
            " [0.         0.         0.         0.         0.30588235 0.84705882 0.72941176 0.75686275 0.57647059 0.55686275 0.54117647 0.50588235 0.62745098 0.74117647 0.88235294 0.55294118 0.6\n",
            "  0.49019608 0.48627451 0.63137255 0.52156863 0.55294118 0.74117647 0.8        0.31764706 0.         0.         0.        ]\n",
            " [0.         0.         0.         0.         0.21960784 0.76078431 0.63921569 0.74901961 0.61176471 0.56078431 0.56078431 0.57647059 0.75294118 0.86666667 0.58823529 0.75686275 0.87058824\n",
            "  0.56470588 0.61176471 0.6627451  0.62352941 0.52156863 0.46666667 0.74509804 0.29411765 0.         0.         0.        ]\n",
            " [0.         0.         0.         0.         0.24705882 0.72941176 0.54901961 0.84705882 0.85098039 0.84705882 0.78039216 0.71372549 0.80392157 0.84313725 0.37254902 0.6        0.74117647\n",
            "  0.56470588 0.73333333 0.81568627 0.81960784 0.71372549 0.50980392 0.65098039 0.29411765 0.         0.         0.        ]\n",
            " [0.         0.         0.         0.         0.34901961 0.65098039 0.4745098  0.77647059 0.68235294 0.61568627 0.4745098  0.49411765 0.6627451  0.69019608 0.66666667 0.4745098  0.6745098\n",
            "  0.43529412 0.52156863 0.57254902 0.66666667 0.73333333 0.50980392 0.68627451 0.38823529 0.         0.         0.        ]\n",
            " [0.         0.         0.         0.         0.40784314 0.62745098 0.63529412 0.71372549 0.60784314 0.59215686 0.50196078 0.43921569 0.61176471 0.61960784 0.52156863 0.73333333 0.54901961\n",
            "  0.41568627 0.45490196 0.63529412 0.54117647 0.35294118 0.56078431 0.69019608 0.4        0.         0.         0.        ]\n",
            " [0.         0.         0.         0.         0.64705882 0.77647059 0.8        0.64313725 0.56862745 0.53333333 0.48235294 0.48627451 0.72156863 0.67843137 0.52941176 0.5372549  0.66666667\n",
            "  0.56862745 0.44313725 0.67843137 0.6        0.33333333 0.81176471 0.90980392 0.54901961 0.         0.         0.        ]\n",
            " [0.         0.         0.         0.         0.48627451 0.70980392 0.83921569 0.70588235 0.61568627 0.56862745 0.56862745 0.48627451 0.7254902  0.75686275 0.49411765 0.55294118 0.8\n",
            "  0.52156863 0.43137255 0.71372549 0.59215686 0.65882353 0.61176471 0.57254902 0.42745098 0.         0.         0.        ]\n",
            " [0.         0.         0.         0.         0.45098039 0.38431373 0.62745098 0.74117647 0.74901961 0.77647059 0.78823529 0.76470588 0.92156863 0.82745098 0.83529412 0.92941176 0.85882353\n",
            "  0.6745098  0.80392157 0.85098039 0.70980392 0.70980392 0.65490196 0.50588235 0.44313725 0.         0.         0.        ]\n",
            " [0.         0.         0.         0.         0.56470588 0.45098039 0.6627451  0.56078431 0.74509804 0.6        0.50588235 0.4627451  0.68235294 0.47058824 0.68235294 0.92941176 0.57254902\n",
            "  0.44313725 0.49411765 0.6627451  0.58039216 0.62352941 0.65490196 0.50196078 0.50980392 0.         0.         0.        ]\n",
            " [0.         0.         0.         0.         0.54901961 0.58431373 0.68235294 0.1254902  0.75294118 0.72156863 0.67843137 0.62352941 0.72941176 0.62745098 0.62745098 0.36862745 0.63137255\n",
            "  0.48235294 0.48235294 0.64705882 0.75294118 0.31764706 0.57254902 0.58039216 0.40784314 0.         0.         0.        ]\n",
            " [0.         0.         0.         0.         0.         0.         0.         0.         0.21176471 0.87058824 0.93333333 0.86666667 0.85490196 0.99215686 0.89019608 1.         0.90196078\n",
            "  0.85882353 0.89019608 0.9372549  0.63529412 0.         0.         0.         0.         0.         0.         0.        ]\n",
            " [0.         0.         0.         0.         0.         0.         0.         0.         0.         0.         0.08627451 0.23921569 0.34509804 0.37254902 0.4        0.48235294 0.3372549\n",
            "  0.25882353 0.12941176 0.         0.         0.         0.         0.         0.         0.         0.         0.        ]]\n"
          ]
        },
        {
          "output_type": "display_data",
          "data": {
            "image/png": "[encoded data removed]",
            "text/plain": [
              "<Figure size 432x288 with 1 Axes>"
            ]
          },
          "metadata": {
            "needs_background": "light"
          }
        }
      ]
    },
    {
      "cell_type": "markdown",
      "metadata": {
        "id": "acqZVUaKNVH_"
      },
      "source": [
        "**Normalizing Data**"
      ]
    },
    {
      "cell_type": "code",
      "metadata": {
        "id": "T-D0RE0uNar7"
      },
      "source": [
        "training_images  = training_images / 255.0\n",
        "test_images = test_images / 255.0"
      ],
      "execution_count": 31,
      "outputs": []
    },
    {
      "cell_type": "markdown",
      "metadata": {
        "id": "NCy262V3N69y"
      },
      "source": [
        "**Designing the Model**"
      ]
    },
    {
      "cell_type": "code",
      "metadata": {
        "id": "A-lCweJuN-DZ"
      },
      "source": [
        "model = tf.keras.models.Sequential([tf.keras.layers.Flatten(), \n",
        "                                    tf.keras.layers.Dense(128, activation=tf.nn.relu), \n",
        "                                    tf.keras.layers.Dense(10, activation=tf.nn.softmax)])"
      ],
      "execution_count": 32,
      "outputs": []
    },
    {
      "cell_type": "markdown",
      "metadata": {
        "id": "7B1v4Bz_O0d8"
      },
      "source": [
        "**Compile and fit the model**"
      ]
    },
    {
      "cell_type": "code",
      "metadata": {
        "colab": {
          "base_uri": "https://localhost:8080/"
        },
        "id": "fVdwnoY5O5Kx",
        "outputId": "d047b22c-a14f-46f0-fa18-6b7e38b502c4"
      },
      "source": [
        "model.compile(optimizer = tf.optimizers.Adam(),\n",
        "              loss = 'sparse_categorical_crossentropy',\n",
        "              metrics=['accuracy'])\n",
        "\n",
        "model.fit(training_images, training_labels, epochs=5)"
      ],
      "execution_count": 33,
      "outputs": [
        {
          "output_type": "stream",
          "name": "stdout",
          "text": [
            "Epoch 1/5\n",
            "1875/1875 [==============================] - 4s 2ms/step - loss: 1.0923 - accuracy: 0.6641\n",
            "Epoch 2/5\n",
            "1875/1875 [==============================] - 3s 2ms/step - loss: 0.6427 - accuracy: 0.7702\n",
            "Epoch 3/5\n",
            "1875/1875 [==============================] - 3s 2ms/step - loss: 0.5653 - accuracy: 0.7971\n",
            "Epoch 4/5\n",
            "1875/1875 [==============================] - 3s 2ms/step - loss: 0.5230 - accuracy: 0.8148\n",
            "Epoch 5/5\n",
            "1875/1875 [==============================] - 3s 2ms/step - loss: 0.4957 - accuracy: 0.8254\n"
          ]
        },
        {
          "output_type": "execute_result",
          "data": {
            "text/plain": [
              "<keras.callbacks.History at 0x7f76448ce4d0>"
            ]
          },
          "metadata": {},
          "execution_count": 33
        }
      ]
    },
    {
      "cell_type": "markdown",
      "metadata": {
        "id": "ueHEbjm8QsM3"
      },
      "source": [
        "**Evaluating the test set**"
      ]
    },
    {
      "cell_type": "code",
      "metadata": {
        "colab": {
          "base_uri": "https://localhost:8080/"
        },
        "id": "8frmIwxtQ8TN",
        "outputId": "861de5d3-8b87-48f3-c184-a0493a929190"
      },
      "source": [
        "model.evaluate(test_images, test_labels)"
      ],
      "execution_count": 35,
      "outputs": [
        {
          "output_type": "stream",
          "name": "stdout",
          "text": [
            "313/313 [==============================] - 0s 1ms/step - loss: 0.5128 - accuracy: 0.8150\n"
          ]
        },
        {
          "output_type": "execute_result",
          "data": {
            "text/plain": [
              "[0.5128051042556763, 0.8149999976158142]"
            ]
          },
          "metadata": {},
          "execution_count": 35
        }
      ]
    }
  ]
}